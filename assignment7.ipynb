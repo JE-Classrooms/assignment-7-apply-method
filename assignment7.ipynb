{
 "cells": [
  {
   "cell_type": "markdown",
   "metadata": {},
   "source": [
    "# Assignment 7"
   ]
  },
  {
   "cell_type": "markdown",
   "metadata": {},
   "source": [
    "**Exercise 1:** use apply and groupby with string data \n",
    "\n",
    "a). Read the data frame ```SanFrancisco_salary.csv``` and assign it to an object called ```salary```\n",
    "\n",
    "b). Using ```apply``` create a new column in the ```salary``` data frame that equals True for all the names containing ```'Aaron'``` and False otherwise (*hint* you can check if the substring ```Aaron``` is in a string by doing ```Aaron``` in string)\n",
    "\n",
    "c). Using ```apply``` create a new column in the ```salary``` data frame that equals True for all the job titles containing ```'Tech'``` and False otherwise\n",
    "\n",
    "d). Using ```groupby``` show the total numbers of employees named ```Aaron``` and the total number of ```Technicians``` by ```Department```\n",
    "\n",
    "e). What is the Department with the lowest number of Technicians? Does the department with the lowest number of Technicians changes by year? Show the table you are using to answer the question"
   ]
  },
  {
   "cell_type": "code",
   "execution_count": null,
   "metadata": {},
   "outputs": [],
   "source": []
  }
 ],
 "metadata": {
  "kernelspec": {
   "display_name": "Python 3.8.5 ('base')",
   "language": "python",
   "name": "python3"
  },
  "language_info": {
   "codemirror_mode": {
    "name": "ipython",
    "version": 3
   },
   "file_extension": ".py",
   "mimetype": "text/x-python",
   "name": "python",
   "nbconvert_exporter": "python",
   "pygments_lexer": "ipython3",
   "version": "3.8.5"
  },
  "orig_nbformat": 4,
  "vscode": {
   "interpreter": {
    "hash": "9fbb33e86ca55080a202fed700efde3fb4ffe3f46131e5b52201b9ba06ce5f72"
   }
  }
 },
 "nbformat": 4,
 "nbformat_minor": 2
}
